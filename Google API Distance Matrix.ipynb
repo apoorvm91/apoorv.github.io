{
 "cells": [
  {
   "cell_type": "code",
   "execution_count": 28,
   "metadata": {
    "slideshow": {
     "slide_type": "slide"
    }
   },
   "outputs": [],
   "source": [
    "import requests\n",
    "from pandas.io.json import json_normalize\n",
    "from flatten_json import *\n",
    "import pandas as pd\n",
    "import json\n",
    "import googlemaps\n",
    "import time\n",
    "\n",
    "# URL of the Google Maps API\n",
    "GOOGLE_MAPS_API_URL = 'https://maps.googleapis.com/maps/api/distancematrix/json'\n",
    "GOOGLE_MAPS_DIR_URL = 'https://maps.googleapis.com/maps/api/directions/json'\n",
    "\n",
    "# Google API Key File Path; KEEP PRIVATE\n",
    "api_key_file = 'Google_API_Key.txt'\n",
    "\n",
    "# Reading the API Key\n",
    "mykey = open(api_key_file,\"r\").readline()"
   ]
  },
  {
   "cell_type": "markdown",
   "metadata": {
    "slideshow": {
     "slide_type": "slide"
    }
   },
   "source": [
    "# Distance Matrix API - Duration & Distance\n",
    "\n",
    "## Required Parameters\n",
    "- `origins`, can supply multiple locations separated by pipe character, in the form of address, lat/lon, or a place ID\n",
    "    - `'Bobcaygeon+ON|24+Sussex+Drive+Ottawa+ON'`, `'41.43206,-81.38992|-33.86748,151.20699'`, `'47906'`\n",
    "- `destinations`, same format as `origins`\n",
    "- `key`, API key\n",
    "***\n",
    "## Optional Parameters\n",
    "- `mode`, *driving*, walking, bicycling, transit\n",
    "- `language`\n",
    "- `region`, region code, specified as a ccTLD two-character value\n",
    "- `avoid`, tolls, highways, ferries, indoor\n",
    "- `units`, *metric*, imperial (only relevaqnt for the text output)\n",
    "- `arrival_time` `departure_time`, desired time of arrival for transit requests, in seconds since midnight, January 1, 1970 UTC (specify either but not both, should be specified in integers)\n",
    "- `traffic_model`, *best_guess*, pessimistic, optimistic\n",
    "- `transit_mode`, preferred modes of transit, bus, subway, train, tram, rail\n",
    "- `transit_routing_preference`, less_walking, fewer_transfers\n",
    "***\n",
    "## Response Elements\n",
    "Each row in the response corresponds to an origin, and each element within that row corresponds to a pairing of the origin with a specific destination.\n",
    "- `status`, status of the request, useful for debugging. For codes other than `OK`, look at `error_message` field for more information.\n",
    "    - #### Top-level Status Codes\n",
    "        - `OK`, response contains a valid `result`\n",
    "        - `INVALID_REQUEST`, provided request was invalid\n",
    "        - `MAX_ELEMENTS_EXCEEDED`, product of origins and destinations exceeds the per-query limit\n",
    "        - `OVER_QUERY_LIMIT`, too many requests within the allowed time period\n",
    "        - `REQUEST_DENIED`, service denied\n",
    "        - `UNKNOWN_ERROR`, server error\n",
    "    - #### Element-level Status Codes\n",
    "        - `OK`, response contains a valid `result`\n",
    "        - `NOT_FOUND`, origin and/or destination pairing could not be geocoded\n",
    "        - `ZERO_RESULTS`, no route found\n",
    "        - `MAX_ROUTE_LENGTH_EXCEEDED`, requested route is too long to process\n",
    "- `origin_addresses`, array of addresses returned by the API from your original request\n",
    "- `destination_addresses`, array of addresses returned by the API from your original request\n",
    "- `rows`, contains an array of elements, which in turn contain a `status`, `duration`, and `distance` element\n",
    "- If available, response might also contain `fare` of the route\n",
    "- When `departure_time` parameter is supplied for a `driving` mode request along with valid API key, `duration_in_traffic` is also returned based upon the `traffic_model` if traffic conditions are available"
   ]
  },
  {
   "cell_type": "code",
   "execution_count": 29,
   "metadata": {
    "slideshow": {
     "slide_type": "slide"
    }
   },
   "outputs": [
    {
     "name": "stdout",
     "output_type": "stream",
     "text": [
      "{\n",
      "   \"destination_addresses\": [\n",
      "      \"Rockville, MD 20850, USA\"\n",
      "   ], \n",
      "   \"origin_addresses\": [\n",
      "      \"West Lafayette, IN 47906, USA\"\n",
      "   ], \n",
      "   \"rows\": [\n",
      "      {\n",
      "         \"elements\": [\n",
      "            {\n",
      "               \"distance\": {\n",
      "                  \"text\": \"641 mi\", \n",
      "                  \"value\": 1031794\n",
      "               }, \n",
      "               \"duration\": {\n",
      "                  \"text\": \"9 hours 40 mins\", \n",
      "                  \"value\": 34791\n",
      "               }, \n",
      "               \"status\": \"OK\"\n",
      "            }\n",
      "         ]\n",
      "      }\n",
      "   ], \n",
      "   \"status\": \"OK\"\n",
      "}\n"
     ]
    },
    {
     "data": {
      "text/html": [
       "<div>\n",
       "<style scoped>\n",
       "    .dataframe tbody tr th:only-of-type {\n",
       "        vertical-align: middle;\n",
       "    }\n",
       "\n",
       "    .dataframe tbody tr th {\n",
       "        vertical-align: top;\n",
       "    }\n",
       "\n",
       "    .dataframe thead th {\n",
       "        text-align: right;\n",
       "    }\n",
       "</style>\n",
       "<table border=\"1\" class=\"dataframe\">\n",
       "  <thead>\n",
       "    <tr style=\"text-align: right;\">\n",
       "      <th></th>\n",
       "      <th>destination_addresses_0</th>\n",
       "      <th>origin_addresses_0</th>\n",
       "      <th>rows_0_elements_0_distance_text</th>\n",
       "      <th>rows_0_elements_0_distance_value</th>\n",
       "      <th>rows_0_elements_0_duration_text</th>\n",
       "      <th>rows_0_elements_0_duration_value</th>\n",
       "      <th>rows_0_elements_0_status</th>\n",
       "      <th>status</th>\n",
       "    </tr>\n",
       "  </thead>\n",
       "  <tbody>\n",
       "    <tr>\n",
       "      <th>0</th>\n",
       "      <td>Rockville, MD 20850, USA</td>\n",
       "      <td>West Lafayette, IN 47906, USA</td>\n",
       "      <td>641 mi</td>\n",
       "      <td>1031794</td>\n",
       "      <td>9 hours 40 mins</td>\n",
       "      <td>34791</td>\n",
       "      <td>OK</td>\n",
       "      <td>OK</td>\n",
       "    </tr>\n",
       "  </tbody>\n",
       "</table>\n",
       "</div>"
      ],
      "text/plain": [
       "    destination_addresses_0             origin_addresses_0  \\\n",
       "0  Rockville, MD 20850, USA  West Lafayette, IN 47906, USA   \n",
       "\n",
       "  rows_0_elements_0_distance_text  rows_0_elements_0_distance_value  \\\n",
       "0                          641 mi                           1031794   \n",
       "\n",
       "  rows_0_elements_0_duration_text  rows_0_elements_0_duration_value  \\\n",
       "0                 9 hours 40 mins                             34791   \n",
       "\n",
       "  rows_0_elements_0_status status  \n",
       "0                       OK     OK  "
      ]
     },
     "execution_count": 29,
     "metadata": {},
     "output_type": "execute_result"
    }
   ],
   "source": [
    "# Sample Maps Duration and Distance using Distance Matrix API\n",
    "\n",
    "params = {\n",
    "    'units': 'imperial',\n",
    "    'origins': '47906',\n",
    "    'destinations': '20850',\n",
    "    'key': mykey\n",
    "}\n",
    "try:\n",
    "    req = requests.get(GOOGLE_MAPS_API_URL,params=params)\n",
    "    res = req.json()\n",
    "    print(json.dumps(res, sort_keys=True, indent=3))\n",
    "except:\n",
    "    import pdb; pdb.set_trace()\n",
    "#     print(res)\n",
    "\n",
    "# json_normalize(res)\n",
    "json_normalize(flatten_json(res))"
   ]
  },
  {
   "cell_type": "code",
   "execution_count": 30,
   "metadata": {
    "slideshow": {
     "slide_type": "slide"
    }
   },
   "outputs": [
    {
     "data": {
      "text/plain": [
       "{u'destination_addresses': [u'201 E Randolph St, Chicago, IL 60602, USA',\n",
       "  u'1 Nasa Dr, Hampton, VA 23666, USA',\n",
       "  u'Walt Disney World Resort, Orlando, FL 32830, USA',\n",
       "  u'New York, NY, USA'],\n",
       " u'origin_addresses': [u'2550 Yeager Rd, West Lafayette, IN 47906, USA',\n",
       "  u'New York, NY, USA'],\n",
       " u'rows': [{u'elements': [{u'distance': {u'text': u'196 km', u'value': 195505},\n",
       "     u'duration': {u'text': u'2 hours 6 mins', u'value': 7543},\n",
       "     u'status': u'OK'},\n",
       "    {u'distance': {u'text': u'1,235 km', u'value': 1234784},\n",
       "     u'duration': {u'text': u'11 hours 42 mins', u'value': 42141},\n",
       "     u'status': u'OK'},\n",
       "    {u'distance': {u'text': u'1,676 km', u'value': 1675921},\n",
       "     u'duration': {u'text': u'15 hours 1 min', u'value': 54056},\n",
       "     u'status': u'OK'},\n",
       "    {u'distance': {u'text': u'1,225 km', u'value': 1225219},\n",
       "     u'duration': {u'text': u'11 hours 56 mins', u'value': 42975},\n",
       "     u'status': u'OK'}]},\n",
       "  {u'elements': [{u'distance': {u'text': u'1,273 km', u'value': 1272665},\n",
       "     u'duration': {u'text': u'12 hours 13 mins', u'value': 44007},\n",
       "     u'status': u'OK'},\n",
       "    {u'distance': {u'text': u'661 km', u'value': 661160},\n",
       "     u'duration': {u'text': u'6 hours 28 mins', u'value': 23266},\n",
       "     u'status': u'OK'},\n",
       "    {u'distance': {u'text': u'1,765 km', u'value': 1765193},\n",
       "     u'duration': {u'text': u'16 hours 3 mins', u'value': 57805},\n",
       "     u'status': u'OK'},\n",
       "    {u'distance': {u'text': u'1 m', u'value': 0},\n",
       "     u'duration': {u'text': u'1 min', u'value': 0},\n",
       "     u'status': u'OK'}]}],\n",
       " u'status': u'OK'}"
      ]
     },
     "execution_count": 30,
     "metadata": {},
     "output_type": "execute_result"
    }
   ],
   "source": [
    "params = {\n",
    "    'origins': '2550+Yeager+Rd|New+York+City',\n",
    "    'destinations': 'The+Bean+Chicago|NASA+Langley|Disneyworld+Florida|New+York+City',\n",
    "    'mode': 'driving',\n",
    "    'key': mykey\n",
    "}\n",
    "\n",
    "req1 = requests.get(GOOGLE_MAPS_API_URL, params=params)\n",
    "res1 = req1.json()\n",
    "res1"
   ]
  },
  {
   "cell_type": "code",
   "execution_count": 31,
   "metadata": {
    "slideshow": {
     "slide_type": "skip"
    }
   },
   "outputs": [],
   "source": [
    "# time.gmtime(0)\n",
    "# int(time.time())"
   ]
  },
  {
   "cell_type": "code",
   "execution_count": 32,
   "metadata": {
    "slideshow": {
     "slide_type": "slide"
    }
   },
   "outputs": [
    {
     "name": "stdout",
     "output_type": "stream",
     "text": [
      "2550 Yeager Rd, West Lafayette, IN 47906, USA to 201 E Randolph St, Chicago, IL 60602, USA: 196 km, 2 hours 6 mins.\n",
      "2550 Yeager Rd, West Lafayette, IN 47906, USA to 1 Nasa Dr, Hampton, VA 23666, USA: 1,235 km, 11 hours 42 mins.\n",
      "2550 Yeager Rd, West Lafayette, IN 47906, USA to Walt Disney World Resort, Orlando, FL 32830, USA: 1,676 km, 15 hours 1 min.\n",
      "2550 Yeager Rd, West Lafayette, IN 47906, USA to New York, NY, USA: 1,225 km, 11 hours 56 mins.\n",
      "New York, NY, USA to 201 E Randolph St, Chicago, IL 60602, USA: 1,273 km, 12 hours 13 mins.\n",
      "New York, NY, USA to 1 Nasa Dr, Hampton, VA 23666, USA: 661 km, 6 hours 28 mins.\n",
      "New York, NY, USA to Walt Disney World Resort, Orlando, FL 32830, USA: 1,765 km, 16 hours 3 mins.\n",
      "New York, NY, USA to New York, NY, USA: 1 m, 1 min.\n"
     ]
    }
   ],
   "source": [
    "x = json.loads(req1.text)\n",
    "\n",
    "for isrc, src in enumerate(x['origin_addresses']):\n",
    "    for idst, dst in enumerate(x['destination_addresses']):\n",
    "        row = x['rows'][isrc]\n",
    "        cell = row['elements'][idst]\n",
    "        if cell['status'] == 'OK':\n",
    "            print('{} to {}: {}, {}.'.format(src, dst, cell['distance']['text'], cell['duration']['text']))\n",
    "        else:\n",
    "            print('{} to {}: status = {}'.format(src, dst, cell['status']))"
   ]
  },
  {
   "cell_type": "code",
   "execution_count": 33,
   "metadata": {
    "slideshow": {
     "slide_type": "slide"
    }
   },
   "outputs": [
    {
     "data": {
      "text/html": [
       "<div>\n",
       "<style scoped>\n",
       "    .dataframe tbody tr th:only-of-type {\n",
       "        vertical-align: middle;\n",
       "    }\n",
       "\n",
       "    .dataframe tbody tr th {\n",
       "        vertical-align: top;\n",
       "    }\n",
       "\n",
       "    .dataframe thead th {\n",
       "        text-align: right;\n",
       "    }\n",
       "</style>\n",
       "<table border=\"1\" class=\"dataframe\">\n",
       "  <thead>\n",
       "    <tr style=\"text-align: right;\">\n",
       "      <th></th>\n",
       "      <th>destination_addresses_0</th>\n",
       "      <th>destination_addresses_1</th>\n",
       "      <th>destination_addresses_2</th>\n",
       "      <th>destination_addresses_3</th>\n",
       "      <th>origin_addresses_0</th>\n",
       "      <th>origin_addresses_1</th>\n",
       "      <th>rows_0_elements_0_distance_text</th>\n",
       "      <th>rows_0_elements_0_distance_value</th>\n",
       "      <th>rows_0_elements_0_duration_text</th>\n",
       "      <th>rows_0_elements_0_duration_value</th>\n",
       "      <th>...</th>\n",
       "      <th>rows_1_elements_2_distance_value</th>\n",
       "      <th>rows_1_elements_2_duration_text</th>\n",
       "      <th>rows_1_elements_2_duration_value</th>\n",
       "      <th>rows_1_elements_2_status</th>\n",
       "      <th>rows_1_elements_3_distance_text</th>\n",
       "      <th>rows_1_elements_3_distance_value</th>\n",
       "      <th>rows_1_elements_3_duration_text</th>\n",
       "      <th>rows_1_elements_3_duration_value</th>\n",
       "      <th>rows_1_elements_3_status</th>\n",
       "      <th>status</th>\n",
       "    </tr>\n",
       "  </thead>\n",
       "  <tbody>\n",
       "    <tr>\n",
       "      <th>0</th>\n",
       "      <td>201 E Randolph St, Chicago, IL 60602, USA</td>\n",
       "      <td>1 Nasa Dr, Hampton, VA 23666, USA</td>\n",
       "      <td>Walt Disney World Resort, Orlando, FL 32830, USA</td>\n",
       "      <td>New York, NY, USA</td>\n",
       "      <td>2550 Yeager Rd, West Lafayette, IN 47906, USA</td>\n",
       "      <td>New York, NY, USA</td>\n",
       "      <td>196 km</td>\n",
       "      <td>195505</td>\n",
       "      <td>2 hours 6 mins</td>\n",
       "      <td>7543</td>\n",
       "      <td>...</td>\n",
       "      <td>1765193</td>\n",
       "      <td>16 hours 3 mins</td>\n",
       "      <td>57805</td>\n",
       "      <td>OK</td>\n",
       "      <td>1 m</td>\n",
       "      <td>0</td>\n",
       "      <td>1 min</td>\n",
       "      <td>0</td>\n",
       "      <td>OK</td>\n",
       "      <td>OK</td>\n",
       "    </tr>\n",
       "  </tbody>\n",
       "</table>\n",
       "<p>1 rows × 47 columns</p>\n",
       "</div>"
      ],
      "text/plain": [
       "                     destination_addresses_0  \\\n",
       "0  201 E Randolph St, Chicago, IL 60602, USA   \n",
       "\n",
       "             destination_addresses_1  \\\n",
       "0  1 Nasa Dr, Hampton, VA 23666, USA   \n",
       "\n",
       "                            destination_addresses_2 destination_addresses_3  \\\n",
       "0  Walt Disney World Resort, Orlando, FL 32830, USA       New York, NY, USA   \n",
       "\n",
       "                              origin_addresses_0 origin_addresses_1  \\\n",
       "0  2550 Yeager Rd, West Lafayette, IN 47906, USA  New York, NY, USA   \n",
       "\n",
       "  rows_0_elements_0_distance_text  rows_0_elements_0_distance_value  \\\n",
       "0                          196 km                            195505   \n",
       "\n",
       "  rows_0_elements_0_duration_text  rows_0_elements_0_duration_value   ...    \\\n",
       "0                  2 hours 6 mins                              7543   ...     \n",
       "\n",
       "  rows_1_elements_2_distance_value rows_1_elements_2_duration_text  \\\n",
       "0                          1765193                 16 hours 3 mins   \n",
       "\n",
       "   rows_1_elements_2_duration_value rows_1_elements_2_status  \\\n",
       "0                             57805                       OK   \n",
       "\n",
       "   rows_1_elements_3_distance_text rows_1_elements_3_distance_value  \\\n",
       "0                              1 m                                0   \n",
       "\n",
       "  rows_1_elements_3_duration_text  rows_1_elements_3_duration_value  \\\n",
       "0                           1 min                                 0   \n",
       "\n",
       "  rows_1_elements_3_status  status  \n",
       "0                       OK      OK  \n",
       "\n",
       "[1 rows x 47 columns]"
      ]
     },
     "execution_count": 33,
     "metadata": {},
     "output_type": "execute_result"
    }
   ],
   "source": [
    "n_orig = params['origins'].count('|')+1\n",
    "n_dest = params['destinations'].count('|')+1\n",
    "\n",
    "# print(n_orig)\n",
    "\n",
    "json_normalize(flatten_json(res1))"
   ]
  },
  {
   "cell_type": "code",
   "execution_count": 34,
   "metadata": {
    "slideshow": {
     "slide_type": "slide"
    }
   },
   "outputs": [
    {
     "data": {
      "text/html": [
       "<div>\n",
       "<style scoped>\n",
       "    .dataframe tbody tr th:only-of-type {\n",
       "        vertical-align: middle;\n",
       "    }\n",
       "\n",
       "    .dataframe tbody tr th {\n",
       "        vertical-align: top;\n",
       "    }\n",
       "\n",
       "    .dataframe thead th {\n",
       "        text-align: right;\n",
       "    }\n",
       "</style>\n",
       "<table border=\"1\" class=\"dataframe\">\n",
       "  <thead>\n",
       "    <tr style=\"text-align: right;\">\n",
       "      <th></th>\n",
       "      <th>origin</th>\n",
       "      <th>destination</th>\n",
       "      <th>mode</th>\n",
       "    </tr>\n",
       "  </thead>\n",
       "  <tbody>\n",
       "    <tr>\n",
       "      <th>0</th>\n",
       "      <td>47906</td>\n",
       "      <td>60666</td>\n",
       "      <td>driving</td>\n",
       "    </tr>\n",
       "    <tr>\n",
       "      <th>1</th>\n",
       "      <td>2550+Yeager+Rd</td>\n",
       "      <td>585 Purdue Mall</td>\n",
       "      <td>transit</td>\n",
       "    </tr>\n",
       "    <tr>\n",
       "      <th>2</th>\n",
       "      <td>NASA+Langley</td>\n",
       "      <td>Purdue University</td>\n",
       "      <td>driving</td>\n",
       "    </tr>\n",
       "  </tbody>\n",
       "</table>\n",
       "</div>"
      ],
      "text/plain": [
       "           origin        destination     mode\n",
       "0           47906              60666  driving\n",
       "1  2550+Yeager+Rd    585 Purdue Mall  transit\n",
       "2    NASA+Langley  Purdue University  driving"
      ]
     },
     "execution_count": 34,
     "metadata": {},
     "output_type": "execute_result"
    }
   ],
   "source": [
    "d = {'origin': ['47906', '2550+Yeager+Rd','NASA+Langley'],\n",
    "    'destination': ['60666', '585 Purdue Mall', 'Purdue University'],\n",
    "    'mode': ['driving', 'transit', 'driving']\n",
    "    }\n",
    "df = pd.DataFrame(data=d)\n",
    "df = df[['origin','destination','mode']]\n",
    "df"
   ]
  },
  {
   "cell_type": "code",
   "execution_count": 35,
   "metadata": {
    "slideshow": {
     "slide_type": "skip"
    }
   },
   "outputs": [],
   "source": [
    "# len(df)"
   ]
  },
  {
   "cell_type": "code",
   "execution_count": 36,
   "metadata": {
    "slideshow": {
     "slide_type": "slide"
    }
   },
   "outputs": [
    {
     "data": {
      "text/html": [
       "<div>\n",
       "<style scoped>\n",
       "    .dataframe tbody tr th:only-of-type {\n",
       "        vertical-align: middle;\n",
       "    }\n",
       "\n",
       "    .dataframe tbody tr th {\n",
       "        vertical-align: top;\n",
       "    }\n",
       "\n",
       "    .dataframe thead th {\n",
       "        text-align: right;\n",
       "    }\n",
       "</style>\n",
       "<table border=\"1\" class=\"dataframe\">\n",
       "  <thead>\n",
       "    <tr style=\"text-align: right;\">\n",
       "      <th></th>\n",
       "      <th>distance</th>\n",
       "      <th>duration</th>\n",
       "      <th>status</th>\n",
       "    </tr>\n",
       "  </thead>\n",
       "  <tbody>\n",
       "    <tr>\n",
       "      <th>0</th>\n",
       "      <td>{u'text': u'223 km', u'value': 222913}</td>\n",
       "      <td>{u'text': u'2 hours 12 mins', u'value': 7894}</td>\n",
       "      <td>OK</td>\n",
       "    </tr>\n",
       "  </tbody>\n",
       "</table>\n",
       "</div>"
      ],
      "text/plain": [
       "                                 distance  \\\n",
       "0  {u'text': u'223 km', u'value': 222913}   \n",
       "\n",
       "                                        duration status  \n",
       "0  {u'text': u'2 hours 12 mins', u'value': 7894}     OK  "
      ]
     },
     "execution_count": 36,
     "metadata": {},
     "output_type": "execute_result"
    }
   ],
   "source": [
    "gmaps = googlemaps.Client(key=mykey)\n",
    "matrix = gmaps.distance_matrix(df['origin'][0], df['destination'][0], mode=df['mode'][0])\n",
    "json_normalize(matrix,['rows','elements'])\n",
    "# matrixdf\n",
    "# matrix"
   ]
  },
  {
   "cell_type": "code",
   "execution_count": 37,
   "metadata": {
    "slideshow": {
     "slide_type": "skip"
    }
   },
   "outputs": [],
   "source": [
    "# for i in range(0,len(df)):\n",
    "    "
   ]
  },
  {
   "cell_type": "code",
   "execution_count": 38,
   "metadata": {
    "slideshow": {
     "slide_type": "slide"
    }
   },
   "outputs": [
    {
     "name": "stdout",
     "output_type": "stream",
     "text": [
      "{u'status': u'OK', u'rows': [{u'elements': [{u'duration': {u'text': u'9 mins', u'value': 519}, u'distance': {u'text': u'3.9 km', u'value': 3855}, u'status': u'OK'}]}], u'origin_addresses': [u'2550 Yeager Rd, West Lafayette, IN 47906, USA'], u'destination_addresses': [u'585 Purdue Mall, West Lafayette, IN 47907, USA']}\n"
     ]
    },
    {
     "data": {
      "text/html": [
       "<div>\n",
       "<style scoped>\n",
       "    .dataframe tbody tr th:only-of-type {\n",
       "        vertical-align: middle;\n",
       "    }\n",
       "\n",
       "    .dataframe tbody tr th {\n",
       "        vertical-align: top;\n",
       "    }\n",
       "\n",
       "    .dataframe thead th {\n",
       "        text-align: right;\n",
       "    }\n",
       "</style>\n",
       "<table border=\"1\" class=\"dataframe\">\n",
       "  <thead>\n",
       "    <tr style=\"text-align: right;\">\n",
       "      <th></th>\n",
       "      <th>destination_addresses_0</th>\n",
       "      <th>origin_addresses_0</th>\n",
       "      <th>rows_0_elements_0_distance_text</th>\n",
       "      <th>rows_0_elements_0_distance_value</th>\n",
       "      <th>rows_0_elements_0_duration_text</th>\n",
       "      <th>rows_0_elements_0_duration_value</th>\n",
       "      <th>rows_0_elements_0_status</th>\n",
       "      <th>status</th>\n",
       "    </tr>\n",
       "  </thead>\n",
       "  <tbody>\n",
       "    <tr>\n",
       "      <th>0</th>\n",
       "      <td>585 Purdue Mall, West Lafayette, IN 47907, USA</td>\n",
       "      <td>2550 Yeager Rd, West Lafayette, IN 47906, USA</td>\n",
       "      <td>3.9 km</td>\n",
       "      <td>3855</td>\n",
       "      <td>9 mins</td>\n",
       "      <td>519</td>\n",
       "      <td>OK</td>\n",
       "      <td>OK</td>\n",
       "    </tr>\n",
       "  </tbody>\n",
       "</table>\n",
       "</div>"
      ],
      "text/plain": [
       "                          destination_addresses_0  \\\n",
       "0  585 Purdue Mall, West Lafayette, IN 47907, USA   \n",
       "\n",
       "                              origin_addresses_0  \\\n",
       "0  2550 Yeager Rd, West Lafayette, IN 47906, USA   \n",
       "\n",
       "  rows_0_elements_0_distance_text  rows_0_elements_0_distance_value  \\\n",
       "0                          3.9 km                              3855   \n",
       "\n",
       "  rows_0_elements_0_duration_text  rows_0_elements_0_duration_value  \\\n",
       "0                          9 mins                               519   \n",
       "\n",
       "  rows_0_elements_0_status status  \n",
       "0                       OK     OK  "
      ]
     },
     "execution_count": 38,
     "metadata": {},
     "output_type": "execute_result"
    }
   ],
   "source": [
    "params = {\n",
    "    'origins': '2550+Yeager+Rd',\n",
    "    'destinations': '585 Purdue Mall, West Lafayette',\n",
    "    'key': mykey,\n",
    "    'mode': 'cycling',\n",
    "}\n",
    "\n",
    "req2 = requests.get(GOOGLE_MAPS_API_URL, params=params)\n",
    "req2 = req2.json()\n",
    "print(req2)\n",
    "json_normalize(flatten_json(req2))"
   ]
  },
  {
   "cell_type": "code",
   "execution_count": 39,
   "metadata": {
    "slideshow": {
     "slide_type": "slide"
    }
   },
   "outputs": [
    {
     "name": "stdout",
     "output_type": "stream",
     "text": [
      "{u'status': u'OK', u'rows': [{u'elements': [{u'duration': {u'text': u'4 hours 53 mins', u'value': 17604}, u'distance': {u'text': u'477 km', u'value': 476982}, u'status': u'OK'}]}], u'origin_addresses': [u'West Lafayette, IN 47906, USA'], u'destination_addresses': [u'Wellington, OH 44090, USA']}\n"
     ]
    },
    {
     "data": {
      "text/html": [
       "<div>\n",
       "<style scoped>\n",
       "    .dataframe tbody tr th:only-of-type {\n",
       "        vertical-align: middle;\n",
       "    }\n",
       "\n",
       "    .dataframe tbody tr th {\n",
       "        vertical-align: top;\n",
       "    }\n",
       "\n",
       "    .dataframe thead th {\n",
       "        text-align: right;\n",
       "    }\n",
       "</style>\n",
       "<table border=\"1\" class=\"dataframe\">\n",
       "  <thead>\n",
       "    <tr style=\"text-align: right;\">\n",
       "      <th></th>\n",
       "      <th>destination_addresses_0</th>\n",
       "      <th>origin_addresses_0</th>\n",
       "      <th>rows_0_elements_0_distance_text</th>\n",
       "      <th>rows_0_elements_0_distance_value</th>\n",
       "      <th>rows_0_elements_0_duration_text</th>\n",
       "      <th>rows_0_elements_0_duration_value</th>\n",
       "      <th>rows_0_elements_0_status</th>\n",
       "      <th>status</th>\n",
       "    </tr>\n",
       "  </thead>\n",
       "  <tbody>\n",
       "    <tr>\n",
       "      <th>0</th>\n",
       "      <td>Wellington, OH 44090, USA</td>\n",
       "      <td>West Lafayette, IN 47906, USA</td>\n",
       "      <td>477 km</td>\n",
       "      <td>476982</td>\n",
       "      <td>4 hours 53 mins</td>\n",
       "      <td>17604</td>\n",
       "      <td>OK</td>\n",
       "      <td>OK</td>\n",
       "    </tr>\n",
       "  </tbody>\n",
       "</table>\n",
       "</div>"
      ],
      "text/plain": [
       "     destination_addresses_0             origin_addresses_0  \\\n",
       "0  Wellington, OH 44090, USA  West Lafayette, IN 47906, USA   \n",
       "\n",
       "  rows_0_elements_0_distance_text  rows_0_elements_0_distance_value  \\\n",
       "0                          477 km                            476982   \n",
       "\n",
       "  rows_0_elements_0_duration_text  rows_0_elements_0_duration_value  \\\n",
       "0                 4 hours 53 mins                             17604   \n",
       "\n",
       "  rows_0_elements_0_status status  \n",
       "0                       OK     OK  "
      ]
     },
     "execution_count": 39,
     "metadata": {},
     "output_type": "execute_result"
    }
   ],
   "source": [
    "params = {\n",
    "    'origins': '47906',\n",
    "    'destinations': 'Wellington+Ohio',\n",
    "    'key': mykey,\n",
    "    'mode': 'driving',\n",
    "}\n",
    "\n",
    "req2 = requests.get(GOOGLE_MAPS_API_URL, params=params)\n",
    "req2 = req2.json()\n",
    "print(req2)\n",
    "json_normalize(flatten_json(req2))"
   ]
  },
  {
   "cell_type": "code",
   "execution_count": 40,
   "metadata": {
    "scrolled": false,
    "slideshow": {
     "slide_type": "slide"
    }
   },
   "outputs": [
    {
     "name": "stdout",
     "output_type": "stream",
     "text": [
      "765 mi\n",
      "11 hours 46 mins\n"
     ]
    }
   ],
   "source": [
    "# Sample Maps Directions using Maps Directions API\n",
    "\n",
    "params = {\n",
    "    'units': 'imperial',\n",
    "    'origin': 'Purdue+University',\n",
    "    'destination': 'NASA+Langley',\n",
    "    'mode': 'driving',\n",
    "    'key': mykey\n",
    "}\n",
    "\n",
    "req = requests.get(GOOGLE_MAPS_DIR_URL,params=params)\n",
    "res = req.json()\n",
    "# print(res)\n",
    "json_normalize(flatten_json(res))\n",
    "# print(res)\n",
    "# print(json.dumps(res, sort_keys=True, indent=3))\n",
    "# import pdb; pdb.set_trace()\n",
    "print(res['routes'][0]['legs'][0]['distance']['text'])\n",
    "print(res['routes'][0]['legs'][0]['duration']['text'])"
   ]
  }
 ],
 "metadata": {
  "kernelspec": {
   "display_name": "Python 2",
   "language": "python",
   "name": "python2"
  },
  "language_info": {
   "codemirror_mode": {
    "name": "ipython",
    "version": 2
   },
   "file_extension": ".py",
   "mimetype": "text/x-python",
   "name": "python",
   "nbconvert_exporter": "python",
   "pygments_lexer": "ipython2",
   "version": "2.7.10"
  }
 },
 "nbformat": 4,
 "nbformat_minor": 2
}
